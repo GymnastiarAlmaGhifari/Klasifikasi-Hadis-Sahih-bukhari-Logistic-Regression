{
 "cells": [
  {
   "cell_type": "markdown",
   "metadata": {},
   "source": [
    "### **1. Import Library**\n",
    "# Mengimpor pustaka yang diperlukan"
   ]
  },
  {
   "cell_type": "code",
   "execution_count": 1,
   "metadata": {},
   "outputs": [],
   "source": [
    "import pickle\n",
    "import pandas as pd\n",
    "import numpy as np\n",
    "import matplotlib.pyplot as plt\n",
    "\n",
    "from sklearn.linear_model import LogisticRegression\n",
    "from sklearn.multioutput import MultiOutputClassifier"
   ]
  },
  {
   "cell_type": "markdown",
   "metadata": {},
   "source": [
    "### **2. Load Data**\n",
    "# Memuat data yang diperlukan\n"
   ]
  },
  {
   "cell_type": "code",
   "execution_count": 2,
   "metadata": {},
   "outputs": [],
   "source": [
    "# Load TF-IDF training data\n",
    "with open(\"../data/tfidf/tfidf_training.pkl\", \"rb\") as f:\n",
    "    X_train_tfidf = pickle.load(f)"
   ]
  },
  {
   "cell_type": "markdown",
   "metadata": {},
   "source": [
    "### **3. Data Preprocessing**\n",
    "# mengambil data label setiap dokumen"
   ]
  },
  {
   "cell_type": "code",
   "execution_count": 4,
   "metadata": {},
   "outputs": [
    {
     "data": {
      "text/html": [
       "<style type=\"text/css\">\n",
       "#T_1b14e_row0_col0, #T_1b14e_row0_col1, #T_1b14e_row0_col2, #T_1b14e_row1_col0, #T_1b14e_row1_col1, #T_1b14e_row1_col2, #T_1b14e_row2_col0, #T_1b14e_row2_col1, #T_1b14e_row2_col2 {\n",
       "  text-align: left;\n",
       "}\n",
       "</style>\n",
       "<table id=\"T_1b14e\">\n",
       "  <caption>Training Data</caption>\n",
       "  <thead>\n",
       "    <tr>\n",
       "      <th class=\"blank level0\" >&nbsp;</th>\n",
       "      <th id=\"T_1b14e_level0_col0\" class=\"col_heading level0 col0\" >anjuran</th>\n",
       "      <th id=\"T_1b14e_level0_col1\" class=\"col_heading level0 col1\" >larangan</th>\n",
       "      <th id=\"T_1b14e_level0_col2\" class=\"col_heading level0 col2\" >informasi</th>\n",
       "    </tr>\n",
       "  </thead>\n",
       "  <tbody>\n",
       "    <tr>\n",
       "      <th id=\"T_1b14e_level0_row0\" class=\"row_heading level0 row0\" >0</th>\n",
       "      <td id=\"T_1b14e_row0_col0\" class=\"data row0 col0\" >1</td>\n",
       "      <td id=\"T_1b14e_row0_col1\" class=\"data row0 col1\" >1</td>\n",
       "      <td id=\"T_1b14e_row0_col2\" class=\"data row0 col2\" >1</td>\n",
       "    </tr>\n",
       "    <tr>\n",
       "      <th id=\"T_1b14e_level0_row1\" class=\"row_heading level0 row1\" >1</th>\n",
       "      <td id=\"T_1b14e_row1_col0\" class=\"data row1 col0\" >0</td>\n",
       "      <td id=\"T_1b14e_row1_col1\" class=\"data row1 col1\" >0</td>\n",
       "      <td id=\"T_1b14e_row1_col2\" class=\"data row1 col2\" >1</td>\n",
       "    </tr>\n",
       "    <tr>\n",
       "      <th id=\"T_1b14e_level0_row2\" class=\"row_heading level0 row2\" >2</th>\n",
       "      <td id=\"T_1b14e_row2_col0\" class=\"data row2 col0\" >0</td>\n",
       "      <td id=\"T_1b14e_row2_col1\" class=\"data row2 col1\" >1</td>\n",
       "      <td id=\"T_1b14e_row2_col2\" class=\"data row2 col2\" >1</td>\n",
       "    </tr>\n",
       "  </tbody>\n",
       "</table>\n"
      ],
      "text/plain": [
       "<pandas.io.formats.style.Styler at 0x25eb4017a00>"
      ]
     },
     "metadata": {},
     "output_type": "display_data"
    }
   ],
   "source": [
    "# Load labels\n",
    "df_train = pd.read_csv(\"../data/processed/preprocessed_training.csv\", delimiter=\";\")\n",
    "y_train = df_train[['anjuran', 'larangan', 'informasi']]\n",
    "\n",
    "def display_table(df, title):\n",
    "    styled_df = df.head(3).style.set_properties(**{\"text-align\": \"left\"}).set_caption(title)\n",
    "    display(styled_df)\n",
    "\n",
    "display_table(y_train, \"Training Data\")\n"
   ]
  },
  {
   "cell_type": "markdown",
   "metadata": {},
   "source": [
    "### 4. **Logistic Regression dalam MultiOutputClassifier**\n",
    "# Membuat model Logistic Regression dalam MultiOutputClassifier"
   ]
  },
  {
   "cell_type": "code",
   "execution_count": 5,
   "metadata": {},
   "outputs": [
    {
     "data": {
      "text/html": [
       "<style>#sk-container-id-1 {color: black;}#sk-container-id-1 pre{padding: 0;}#sk-container-id-1 div.sk-toggleable {background-color: white;}#sk-container-id-1 label.sk-toggleable__label {cursor: pointer;display: block;width: 100%;margin-bottom: 0;padding: 0.3em;box-sizing: border-box;text-align: center;}#sk-container-id-1 label.sk-toggleable__label-arrow:before {content: \"▸\";float: left;margin-right: 0.25em;color: #696969;}#sk-container-id-1 label.sk-toggleable__label-arrow:hover:before {color: black;}#sk-container-id-1 div.sk-estimator:hover label.sk-toggleable__label-arrow:before {color: black;}#sk-container-id-1 div.sk-toggleable__content {max-height: 0;max-width: 0;overflow: hidden;text-align: left;background-color: #f0f8ff;}#sk-container-id-1 div.sk-toggleable__content pre {margin: 0.2em;color: black;border-radius: 0.25em;background-color: #f0f8ff;}#sk-container-id-1 input.sk-toggleable__control:checked~div.sk-toggleable__content {max-height: 200px;max-width: 100%;overflow: auto;}#sk-container-id-1 input.sk-toggleable__control:checked~label.sk-toggleable__label-arrow:before {content: \"▾\";}#sk-container-id-1 div.sk-estimator input.sk-toggleable__control:checked~label.sk-toggleable__label {background-color: #d4ebff;}#sk-container-id-1 div.sk-label input.sk-toggleable__control:checked~label.sk-toggleable__label {background-color: #d4ebff;}#sk-container-id-1 input.sk-hidden--visually {border: 0;clip: rect(1px 1px 1px 1px);clip: rect(1px, 1px, 1px, 1px);height: 1px;margin: -1px;overflow: hidden;padding: 0;position: absolute;width: 1px;}#sk-container-id-1 div.sk-estimator {font-family: monospace;background-color: #f0f8ff;border: 1px dotted black;border-radius: 0.25em;box-sizing: border-box;margin-bottom: 0.5em;}#sk-container-id-1 div.sk-estimator:hover {background-color: #d4ebff;}#sk-container-id-1 div.sk-parallel-item::after {content: \"\";width: 100%;border-bottom: 1px solid gray;flex-grow: 1;}#sk-container-id-1 div.sk-label:hover label.sk-toggleable__label {background-color: #d4ebff;}#sk-container-id-1 div.sk-serial::before {content: \"\";position: absolute;border-left: 1px solid gray;box-sizing: border-box;top: 0;bottom: 0;left: 50%;z-index: 0;}#sk-container-id-1 div.sk-serial {display: flex;flex-direction: column;align-items: center;background-color: white;padding-right: 0.2em;padding-left: 0.2em;position: relative;}#sk-container-id-1 div.sk-item {position: relative;z-index: 1;}#sk-container-id-1 div.sk-parallel {display: flex;align-items: stretch;justify-content: center;background-color: white;position: relative;}#sk-container-id-1 div.sk-item::before, #sk-container-id-1 div.sk-parallel-item::before {content: \"\";position: absolute;border-left: 1px solid gray;box-sizing: border-box;top: 0;bottom: 0;left: 50%;z-index: -1;}#sk-container-id-1 div.sk-parallel-item {display: flex;flex-direction: column;z-index: 1;position: relative;background-color: white;}#sk-container-id-1 div.sk-parallel-item:first-child::after {align-self: flex-end;width: 50%;}#sk-container-id-1 div.sk-parallel-item:last-child::after {align-self: flex-start;width: 50%;}#sk-container-id-1 div.sk-parallel-item:only-child::after {width: 0;}#sk-container-id-1 div.sk-dashed-wrapped {border: 1px dashed gray;margin: 0 0.4em 0.5em 0.4em;box-sizing: border-box;padding-bottom: 0.4em;background-color: white;}#sk-container-id-1 div.sk-label label {font-family: monospace;font-weight: bold;display: inline-block;line-height: 1.2em;}#sk-container-id-1 div.sk-label-container {text-align: center;}#sk-container-id-1 div.sk-container {/* jupyter's `normalize.less` sets `[hidden] { display: none; }` but bootstrap.min.css set `[hidden] { display: none !important; }` so we also need the `!important` here to be able to override the default hidden behavior on the sphinx rendered scikit-learn.org. See: https://github.com/scikit-learn/scikit-learn/issues/21755 */display: inline-block !important;position: relative;}#sk-container-id-1 div.sk-text-repr-fallback {display: none;}</style><div id=\"sk-container-id-1\" class=\"sk-top-container\"><div class=\"sk-text-repr-fallback\"><pre>MultiOutputClassifier(estimator=LogisticRegression(max_iter=1000))</pre><b>In a Jupyter environment, please rerun this cell to show the HTML representation or trust the notebook. <br />On GitHub, the HTML representation is unable to render, please try loading this page with nbviewer.org.</b></div><div class=\"sk-container\" hidden><div class=\"sk-item sk-dashed-wrapped\"><div class=\"sk-label-container\"><div class=\"sk-label sk-toggleable\"><input class=\"sk-toggleable__control sk-hidden--visually\" id=\"sk-estimator-id-1\" type=\"checkbox\" ><label for=\"sk-estimator-id-1\" class=\"sk-toggleable__label sk-toggleable__label-arrow\">MultiOutputClassifier</label><div class=\"sk-toggleable__content\"><pre>MultiOutputClassifier(estimator=LogisticRegression(max_iter=1000))</pre></div></div></div><div class=\"sk-parallel\"><div class=\"sk-parallel-item\"><div class=\"sk-item\"><div class=\"sk-label-container\"><div class=\"sk-label sk-toggleable\"><input class=\"sk-toggleable__control sk-hidden--visually\" id=\"sk-estimator-id-2\" type=\"checkbox\" ><label for=\"sk-estimator-id-2\" class=\"sk-toggleable__label sk-toggleable__label-arrow\">estimator: LogisticRegression</label><div class=\"sk-toggleable__content\"><pre>LogisticRegression(max_iter=1000)</pre></div></div></div><div class=\"sk-serial\"><div class=\"sk-item\"><div class=\"sk-estimator sk-toggleable\"><input class=\"sk-toggleable__control sk-hidden--visually\" id=\"sk-estimator-id-3\" type=\"checkbox\" ><label for=\"sk-estimator-id-3\" class=\"sk-toggleable__label sk-toggleable__label-arrow\">LogisticRegression</label><div class=\"sk-toggleable__content\"><pre>LogisticRegression(max_iter=1000)</pre></div></div></div></div></div></div></div></div></div></div>"
      ],
      "text/plain": [
       "MultiOutputClassifier(estimator=LogisticRegression(max_iter=1000))"
      ]
     },
     "execution_count": 5,
     "metadata": {},
     "output_type": "execute_result"
    }
   ],
   "source": [
    "# Inisialisasi dan latih model Logistic Regression dalam MultiOutputClassifier\n",
    "base_model = LogisticRegression(max_iter=1000)\n",
    "model = MultiOutputClassifier(base_model)\n",
    "model.fit(X_train_tfidf, y_train)"
   ]
  },
  {
   "cell_type": "markdown",
   "metadata": {},
   "source": [
    "### **5. Simpan Model**\n",
    "# Menyimpan model yang telah dibuat"
   ]
  },
  {
   "cell_type": "code",
   "execution_count": 11,
   "metadata": {},
   "outputs": [
    {
     "name": "stdout",
     "output_type": "stream",
     "text": [
      "✅ Model Multi-Label Logistic Regression berhasil dilatih dan disimpan!\n"
     ]
    }
   ],
   "source": [
    "# Simpan model\n",
    "with open(\"../models/logistic_regression.pkl\", \"wb\") as f:\n",
    "    pickle.dump(model, f)\n",
    "\n",
    "print(\"✅ Model Multi-Label Logistic Regression berhasil dilatih dan disimpan!\")"
   ]
  },
  {
   "cell_type": "code",
   "execution_count": 26,
   "metadata": {},
   "outputs": [
    {
     "name": "stdout",
     "output_type": "stream",
     "text": [
      "\n",
      "Training model for label: anjuran\n",
      "Accuracy:  0.1985\n",
      "Precision: 0.1985\n",
      "Recall:    1.0000\n",
      "F1-Score:  0.3313\n",
      "\n",
      "Training model for label: larangan\n",
      "Accuracy:  0.1184\n",
      "Precision: 0.1184\n",
      "Recall:    1.0000\n",
      "F1-Score:  0.2117\n",
      "\n",
      "Training model for label: informasi\n",
      "Accuracy:  0.0409\n",
      "Precision: 0.0000\n",
      "Recall:    0.0000\n",
      "F1-Score:  0.0000\n",
      "\n",
      "✅ Training selesai untuk semua label.\n"
     ]
    }
   ],
   "source": [
    "import math\n",
    "import pickle\n",
    "import pandas as pd\n",
    "import numpy as np\n",
    "\n",
    "# --- STEP 1: Load TF-IDF and labels ---\n",
    "with open(\"../data/tfidf/tfidf_training.pkl\", \"rb\") as f:\n",
    "    X = pickle.load(f).toarray()  # Ubah ke array biasa\n",
    "\n",
    "df_train = pd.read_csv(\"../data/processed/preprocessed_training.csv\", delimiter=\";\")\n",
    "Y_multi = df_train[['anjuran', 'larangan', 'informasi']].values\n",
    "\n",
    "m, n = X.shape\n",
    "k = Y_multi.shape[1]  # Jumlah label\n",
    "\n",
    "# --- STEP 2: Sigmoid Function ---\n",
    "def sigmoid(z):\n",
    "    return 1 / (1 + math.exp(-z))\n",
    "\n",
    "# --- STEP 3: Cost Function ---\n",
    "def compute_cost(Y, Yp):\n",
    "    total = 0\n",
    "    for i in range(len(Y)):\n",
    "        total += Y[i]*math.log(Yp[i] + 1e-15) + (1 - Y[i])*math.log(1 - Yp[i] + 1e-15)\n",
    "    return (-1/len(Y)) * total\n",
    "\n",
    "# --- STEP 4: Transpose & Helpers ---\n",
    "def transpose(X):\n",
    "    return list(map(list, zip(*X)))\n",
    "\n",
    "def dot(a, b):\n",
    "    return sum(i * j for i, j in zip(a, b))\n",
    "\n",
    "def subtract(a, b):\n",
    "    return [i - j for i, j in zip(a, b)]\n",
    "\n",
    "def multiply(a, b):  # Scalar * vector\n",
    "    return [a * i for i in b]\n",
    "\n",
    "def sum_vector(vec):\n",
    "    return sum(vec)\n",
    "\n",
    "# --- STEP 5: Gradients ---\n",
    "def compute_dW(X, Y, Yp):\n",
    "    Xt = transpose(X)\n",
    "    delta = subtract(Yp, Y)\n",
    "    dW = [(-1/len(Y)) * dot(Xt[j], delta) for j in range(len(Xt))]\n",
    "    return dW\n",
    "\n",
    "def compute_db(Y, Yp):\n",
    "    delta = subtract(Yp, Y)\n",
    "    return (-1/len(Y)) * sum(delta)\n",
    "\n",
    "# --- STEP 6: Training Per Label ---\n",
    "def train_logistic_regression(X, Y, alpha=0.1, epochs=100):\n",
    "    m, n = len(X), len(X[0])\n",
    "    W = [0.0 for _ in range(n)]\n",
    "    b = 0.0\n",
    "\n",
    "    for epoch in range(epochs):\n",
    "        Yp = []\n",
    "        for i in range(m):\n",
    "            z = dot(X[i], W) + b\n",
    "            Yp.append(sigmoid(z))\n",
    "        \n",
    "        dW = compute_dW(X, Y, Yp)\n",
    "        db = compute_db(Y, Yp)\n",
    "\n",
    "        W = subtract(W, multiply(alpha, dW))\n",
    "        b -= alpha * db\n",
    "\n",
    "    return W, b\n",
    "\n",
    "# --- STEP 7: Predict with Threshold ---\n",
    "def predict(X, W, b):\n",
    "    preds = []\n",
    "    for i in range(len(X)):\n",
    "        z = dot(X[i], W) + b\n",
    "        p = sigmoid(z)\n",
    "        preds.append(1 if p > 0.5 else 0)\n",
    "    return preds\n",
    "\n",
    "# --- STEP 8: Confusion Matrix and Metrics ---\n",
    "def confusion(Y, Yp):\n",
    "    tp = tn = fp = fn = 0\n",
    "    for i in range(len(Y)):\n",
    "        if Y[i] == 1 and Yp[i] == 1:\n",
    "            tp += 1\n",
    "        elif Y[i] == 0 and Yp[i] == 0:\n",
    "            tn += 1\n",
    "        elif Y[i] == 0 and Yp[i] == 1:\n",
    "            fp += 1\n",
    "        elif Y[i] == 1 and Yp[i] == 0:\n",
    "            fn += 1\n",
    "    return tp, tn, fp, fn\n",
    "\n",
    "def calculate_metrics(tp, tn, fp, fn):\n",
    "    accuracy = (tp + tn) / (tp + tn + fp + fn)\n",
    "    precision = tp / (tp + fp) if (tp + fp) != 0 else 0\n",
    "    recall = tp / (tp + fn) if (tp + fn) != 0 else 0\n",
    "    f1 = (2 * precision * recall) / (precision + recall) if (precision + recall) != 0 else 0\n",
    "    return accuracy, precision, recall, f1\n",
    "\n",
    "# --- STEP 9: Training Multi-label ---\n",
    "label_names = ['anjuran', 'larangan', 'informasi']\n",
    "models = []\n",
    "\n",
    "for i in range(k):\n",
    "    print(f\"\\nTraining model for label: {label_names[i]}\")\n",
    "    Y = Y_multi[:, i].tolist()\n",
    "    W, b = train_logistic_regression(X, Y, alpha=0.1, epochs=100)\n",
    "    Y_pred = predict(X, W, b)\n",
    "    tp, tn, fp, fn = confusion(Y, Y_pred)\n",
    "    acc, prec, rec, f1 = calculate_metrics(tp, tn, fp, fn)\n",
    "\n",
    "    print(f\"Accuracy:  {acc:.4f}\")\n",
    "    print(f\"Precision: {prec:.4f}\")\n",
    "    print(f\"Recall:    {rec:.4f}\")\n",
    "    print(f\"F1-Score:  {f1:.4f}\")\n",
    "\n",
    "    models.append((W, b))  # Simpan model\n",
    "\n",
    "print(\"\\n✅ Training selesai untuk semua label.\")\n"
   ]
  },
  {
   "cell_type": "code",
   "execution_count": 28,
   "metadata": {},
   "outputs": [
    {
     "name": "stdout",
     "output_type": "stream",
     "text": [
      "\n",
      "✅ Model berhasil disimpan ke folder '../model/'\n"
     ]
    }
   ],
   "source": [
    "# Simpan model per label ke file\n",
    "for i, (W, b) in enumerate(models):\n",
    "    with open(f'../models/logreg_model_{label_names[i]}.pkl', 'wb') as f:\n",
    "        pickle.dump({'W': W, 'b': b}, f)\n",
    "\n",
    "print(\"\\n✅ Model berhasil disimpan ke folder '../model/'\")"
   ]
  },
  {
   "cell_type": "code",
   "execution_count": 30,
   "metadata": {},
   "outputs": [],
   "source": [
    "# Load TF-IDF untuk data testing\n",
    "with open(\"../data/tfidf/tfidf_training.pkl\", \"rb\") as f:\n",
    "    X_test = pickle.load(f).toarray()\n",
    "\n",
    "# Load label sebenarnya\n",
    "df_test = pd.read_csv(\"../data/processed/preprocessed_testing.csv\", delimiter=\";\")\n",
    "Y_test_multi = df_test[['anjuran', 'larangan', 'informasi']].values\n"
   ]
  },
  {
   "cell_type": "code",
   "execution_count": 32,
   "metadata": {},
   "outputs": [
    {
     "name": "stdout",
     "output_type": "stream",
     "text": [
      "\n",
      "🔎 Evaluasi Model di Data Testing\n",
      "\n",
      "Label: anjuran\n",
      "Accuracy:  0.1593\n",
      "Precision: 0.1593\n",
      "Recall:    1.0000\n",
      "F1-Score:  0.2748\n",
      "\n",
      "Label: larangan\n",
      "Accuracy:  0.1300\n",
      "Precision: 0.1300\n",
      "Recall:    1.0000\n",
      "F1-Score:  0.2301\n",
      "\n",
      "Label: informasi\n",
      "Accuracy:  0.0986\n",
      "Precision: 0.0000\n",
      "Recall:    0.0000\n",
      "F1-Score:  0.0000\n"
     ]
    }
   ],
   "source": [
    "print(\"\\n🔎 Evaluasi Model di Data Testing\")\n",
    "for i in range(k):\n",
    "    label = label_names[i]\n",
    "    with open(f'../models/logreg_model_{label}.pkl', 'rb') as f:\n",
    "        model = pickle.load(f)\n",
    "    W, b = model['W'], model['b']\n",
    "    \n",
    "    Y_test = Y_test_multi[:, i].tolist()\n",
    "    Y_pred = predict(X_test, W, b)\n",
    "    \n",
    "    tp, tn, fp, fn = confusion(Y_test, Y_pred)\n",
    "    acc, prec, rec, f1 = calculate_metrics(tp, tn, fp, fn)\n",
    "\n",
    "    print(f\"\\nLabel: {label}\")\n",
    "    print(f\"Accuracy:  {acc:.4f}\")\n",
    "    print(f\"Precision: {prec:.4f}\")\n",
    "    print(f\"Recall:    {rec:.4f}\")\n",
    "    print(f\"F1-Score:  {f1:.4f}\")\n"
   ]
  }
 ],
 "metadata": {
  "kernelspec": {
   "display_name": "Python 3",
   "language": "python",
   "name": "python3"
  },
  "language_info": {
   "codemirror_mode": {
    "name": "ipython",
    "version": 3
   },
   "file_extension": ".py",
   "mimetype": "text/x-python",
   "name": "python",
   "nbconvert_exporter": "python",
   "pygments_lexer": "ipython3",
   "version": "3.10.11"
  }
 },
 "nbformat": 4,
 "nbformat_minor": 2
}
