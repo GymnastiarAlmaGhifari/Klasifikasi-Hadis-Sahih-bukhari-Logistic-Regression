{
  "cells": [
    {
      "cell_type": "markdown",
      "metadata": {},
      "source": [
        "# Multi-Label Classification with Logistic Regression\n",
        "\n",
        "This notebook demonstrates a manual implementation of multi-label classification using Logistic Regression, following the approach in the referenced journal. We will use TF-IDF features extracted from Hadith text, and manually train a binary classifier for each label (anjuran, larangan, informasi)."
      ]
    },
    {
      "cell_type": "code",
      "execution_count": null,
      "metadata": {},
      "outputs": [
        {
          "name": "stdout",
          "output_type": "stream",
          "text": [
            "\n",
            "=== Melatih model untuk label: anjuran ===\n"
          ]
        },
        {
          "name": "stderr",
          "output_type": "stream",
          "text": [
            "C:\\Users\\mynam\\AppData\\Local\\Packages\\PythonSoftwareFoundation.Python.3.10_qbz5n2kfra8p0\\LocalCache\\local-packages\\Python310\\site-packages\\sklearn\\metrics\\_classification.py:1471: UndefinedMetricWarning: Precision and F-score are ill-defined and being set to 0.0 in labels with no predicted samples. Use `zero_division` parameter to control this behavior.\n",
            "  _warn_prf(average, modifier, msg_start, len(result))\n",
            "C:\\Users\\mynam\\AppData\\Local\\Packages\\PythonSoftwareFoundation.Python.3.10_qbz5n2kfra8p0\\LocalCache\\local-packages\\Python310\\site-packages\\sklearn\\metrics\\_classification.py:1471: UndefinedMetricWarning: Precision and F-score are ill-defined and being set to 0.0 in labels with no predicted samples. Use `zero_division` parameter to control this behavior.\n",
            "  _warn_prf(average, modifier, msg_start, len(result))\n",
            "C:\\Users\\mynam\\AppData\\Local\\Packages\\PythonSoftwareFoundation.Python.3.10_qbz5n2kfra8p0\\LocalCache\\local-packages\\Python310\\site-packages\\sklearn\\metrics\\_classification.py:1471: UndefinedMetricWarning: Precision and F-score are ill-defined and being set to 0.0 in labels with no predicted samples. Use `zero_division` parameter to control this behavior.\n",
            "  _warn_prf(average, modifier, msg_start, len(result))\n"
          ]
        },
        {
          "name": "stdout",
          "output_type": "stream",
          "text": [
            "               precision    recall  f1-score   support\n",
            "\n",
            "Tidak anjuran       0.80      1.00      0.89      4489\n",
            "      anjuran       0.00      0.00      0.00      1112\n",
            "\n",
            "     accuracy                           0.80      5601\n",
            "    macro avg       0.40      0.50      0.44      5601\n",
            " weighted avg       0.64      0.80      0.71      5601\n",
            "\n",
            "\n",
            "=== Melatih model untuk label: larangan ===\n"
          ]
        },
        {
          "name": "stderr",
          "output_type": "stream",
          "text": [
            "C:\\Users\\mynam\\AppData\\Local\\Packages\\PythonSoftwareFoundation.Python.3.10_qbz5n2kfra8p0\\LocalCache\\local-packages\\Python310\\site-packages\\sklearn\\metrics\\_classification.py:1471: UndefinedMetricWarning: Precision and F-score are ill-defined and being set to 0.0 in labels with no predicted samples. Use `zero_division` parameter to control this behavior.\n",
            "  _warn_prf(average, modifier, msg_start, len(result))\n",
            "C:\\Users\\mynam\\AppData\\Local\\Packages\\PythonSoftwareFoundation.Python.3.10_qbz5n2kfra8p0\\LocalCache\\local-packages\\Python310\\site-packages\\sklearn\\metrics\\_classification.py:1471: UndefinedMetricWarning: Precision and F-score are ill-defined and being set to 0.0 in labels with no predicted samples. Use `zero_division` parameter to control this behavior.\n",
            "  _warn_prf(average, modifier, msg_start, len(result))\n",
            "C:\\Users\\mynam\\AppData\\Local\\Packages\\PythonSoftwareFoundation.Python.3.10_qbz5n2kfra8p0\\LocalCache\\local-packages\\Python310\\site-packages\\sklearn\\metrics\\_classification.py:1471: UndefinedMetricWarning: Precision and F-score are ill-defined and being set to 0.0 in labels with no predicted samples. Use `zero_division` parameter to control this behavior.\n",
            "  _warn_prf(average, modifier, msg_start, len(result))\n"
          ]
        },
        {
          "name": "stdout",
          "output_type": "stream",
          "text": [
            "                precision    recall  f1-score   support\n",
            "\n",
            "Tidak larangan       0.88      1.00      0.94      4938\n",
            "      larangan       0.00      0.00      0.00       663\n",
            "\n",
            "      accuracy                           0.88      5601\n",
            "     macro avg       0.44      0.50      0.47      5601\n",
            "  weighted avg       0.78      0.88      0.83      5601\n",
            "\n",
            "\n",
            "=== Melatih model untuk label: informasi ===\n",
            "                 precision    recall  f1-score   support\n",
            "\n",
            "Tidak informasi       0.00      0.00      0.00       229\n",
            "      informasi       0.96      1.00      0.98      5372\n",
            "\n",
            "       accuracy                           0.96      5601\n",
            "      macro avg       0.48      0.50      0.49      5601\n",
            "   weighted avg       0.92      0.96      0.94      5601\n",
            "\n",
            "\n",
            "Hasil Prediksi untuk semua label:\n",
            "   anjuran  larangan  informasi\n",
            "0      0.0       0.0        1.0\n",
            "1      0.0       0.0        1.0\n",
            "2      0.0       0.0        1.0\n",
            "3      0.0       0.0        1.0\n",
            "4      0.0       0.0        1.0\n"
          ]
        },
        {
          "name": "stderr",
          "output_type": "stream",
          "text": [
            "C:\\Users\\mynam\\AppData\\Local\\Packages\\PythonSoftwareFoundation.Python.3.10_qbz5n2kfra8p0\\LocalCache\\local-packages\\Python310\\site-packages\\sklearn\\metrics\\_classification.py:1471: UndefinedMetricWarning: Precision and F-score are ill-defined and being set to 0.0 in labels with no predicted samples. Use `zero_division` parameter to control this behavior.\n",
            "  _warn_prf(average, modifier, msg_start, len(result))\n",
            "C:\\Users\\mynam\\AppData\\Local\\Packages\\PythonSoftwareFoundation.Python.3.10_qbz5n2kfra8p0\\LocalCache\\local-packages\\Python310\\site-packages\\sklearn\\metrics\\_classification.py:1471: UndefinedMetricWarning: Precision and F-score are ill-defined and being set to 0.0 in labels with no predicted samples. Use `zero_division` parameter to control this behavior.\n",
            "  _warn_prf(average, modifier, msg_start, len(result))\n",
            "C:\\Users\\mynam\\AppData\\Local\\Packages\\PythonSoftwareFoundation.Python.3.10_qbz5n2kfra8p0\\LocalCache\\local-packages\\Python310\\site-packages\\sklearn\\metrics\\_classification.py:1471: UndefinedMetricWarning: Precision and F-score are ill-defined and being set to 0.0 in labels with no predicted samples. Use `zero_division` parameter to control this behavior.\n",
            "  _warn_prf(average, modifier, msg_start, len(result))\n"
          ]
        }
      ],
      "source": [
        "import pickle\n",
        "import pandas as pd\n",
        "import numpy as np\n",
        "from sklearn.metrics import classification_report\n",
        "\n",
        "# ============================\n",
        "# 1. Menyiapkan Data Aktual (X, Y)\n",
        "# ============================\n",
        "with open(\"../data/tfidf/tfidf_training.pkl\", \"rb\") as f:\n",
        "    X_train_tfidf = pickle.load(f).toarray()  # X = data fitur (hasil TF-IDF)\n",
        "\n",
        "df_train = pd.read_csv(\"../data/processed/preprocessed_training.csv\", delimiter=\";\")\n",
        "y_train = df_train[['anjuran', 'larangan', 'informasi']].values  # Y = label multi-label\n",
        "\n",
        "# ============================\n",
        "# 2. Inisialisasi Bobot dan Bias\n",
        "# ============================\n",
        "class ManualLogisticRegression:\n",
        "    def __init__(self, learning_rate=0.1, n_iter=1000):\n",
        "        self.lr = learning_rate        # α = learning rate\n",
        "        self.n_iter = n_iter           # jumlah iterasi (epoch)\n",
        "        self.weights = None            # bobot awal w = 0\n",
        "        self.bias = None               # bias awal b = 0\n",
        "\n",
        "    # ============================\n",
        "    # 4. Menerapkan Fungsi Sigmoid\n",
        "    # Rumus: sigmoid(z) = 1 / (1 + e^(-z))\n",
        "    # ============================\n",
        "    @staticmethod\n",
        "    def sigmoid(z):\n",
        "        return 1 / (1 + np.exp(-z))\n",
        "\n",
        "    def fit(self, X, y):\n",
        "        n_samples, n_features = X.shape\n",
        "\n",
        "        # Inisialisasi bobot dan bias\n",
        "        self.weights = np.zeros(n_features)\n",
        "        self.bias = 0\n",
        "\n",
        "        # ============================\n",
        "        # Proses iterasi Gradient Descent\n",
        "        # ============================\n",
        "        for _ in range(self.n_iter):\n",
        "\n",
        "            # ============================\n",
        "            # 3. Menghitung Prediksi Awal (z = Xw + b)\n",
        "            # ============================\n",
        "            linear_pred = np.dot(X, self.weights) + self.bias\n",
        "\n",
        "            # ============================\n",
        "            # 4. Menerapkan Sigmoid → Y_pred\n",
        "            # ============================\n",
        "            y_pred = self.sigmoid(linear_pred)\n",
        "\n",
        "            # ============================\n",
        "            # 5. Menghitung Fungsi Biaya (Opsional, bisa tambahkan loss log loss jika ingin)\n",
        "            # 6. Menghitung Turunan Parsial (gradien)\n",
        "            # dw = (1/n) * X.T · (Y_pred - Y)\n",
        "            # db = (1/n) * jumlah(Y_pred - Y)\n",
        "            # ============================\n",
        "            dw = (1 / n_samples) * np.dot(X.T, (y_pred - y))\n",
        "            db = (1 / n_samples) * np.sum(y_pred - y)\n",
        "\n",
        "            # ============================\n",
        "            # 7. Memperbarui Bobot dan Bias\n",
        "            # w = w - α * dw\n",
        "            # b = b - α * db\n",
        "            # ============================\n",
        "            self.weights -= self.lr * dw\n",
        "            self.bias -= self.lr * db\n",
        "\n",
        "    # ============================\n",
        "    # 8. Menghitung Prediksi Akhir\n",
        "    # Jika sigmoid ≥ 0.5 → 1, jika < 0.5 → 0\n",
        "    # ============================\n",
        "    def predict(self, X, threshold=0.5):\n",
        "        linear_pred = np.dot(X, self.weights) + self.bias\n",
        "        y_pred = self.sigmoid(linear_pred)\n",
        "        return (y_pred >= threshold).astype(int)\n",
        "\n",
        "# ============================\n",
        "# Melatih model untuk setiap label: anjuran, larangan, informasi\n",
        "# ============================\n",
        "models = {}\n",
        "labels = ['anjuran', 'larangan', 'informasi']\n",
        "\n",
        "for i, label in enumerate(labels):\n",
        "    print(f\"\\n=== Melatih model untuk label: {label} ===\")\n",
        "\n",
        "    # Inisialisasi model\n",
        "    lr = ManualLogisticRegression(learning_rate=0.01, n_iter=2000)\n",
        "    lr.fit(X_train_tfidf, y_train[:, i])\n",
        "\n",
        "    # Simpan model per label\n",
        "    models[label] = lr\n",
        "\n",
        "    # Prediksi pada data training\n",
        "    y_pred = lr.predict(X_train_tfidf)\n",
        "\n",
        "    # ============================\n",
        "    # 9. Menghitung Confusion Matrix\n",
        "    # 10. Menghitung Ukuran Statistik (Presisi, Recall, F1)\n",
        "    # Menggunakan classification_report dari sklearn\n",
        "    # ============================\n",
        "    print(classification_report(\n",
        "        y_train[:, i],\n",
        "        y_pred,\n",
        "        target_names=[f'Tidak {label}', label]\n",
        "    ))\n",
        "\n",
        "# ============================\n",
        "# Menyimpan semua model dalam satu file pickle\n",
        "# ============================\n",
        "with open(\"../models/manual_logreg_models.pkl\", \"wb\") as f:\n",
        "    pickle.dump(models, f)\n",
        "\n",
        "# ============================\n",
        "# Fungsi untuk memprediksi semua label sekaligus\n",
        "# ============================\n",
        "def predict_all_labels(X, models, threshold=0.5):\n",
        "    y_pred = np.zeros((X.shape[0], len(models)))  # [jumlah_data x 3 label]\n",
        "    for i, label in enumerate(models.keys()):\n",
        "        y_pred[:, i] = models[label].predict(X, threshold)\n",
        "    return y_pred\n",
        "\n",
        "# ============================\n",
        "# Contoh penggunaan prediksi multi-label\n",
        "# ============================\n",
        "y_train_pred = predict_all_labels(X_train_tfidf, models)\n",
        "print(\"\\nHasil Prediksi untuk semua label:\")\n",
        "print(pd.DataFrame(y_train_pred, columns=labels).head())\n"
      ]
    },
    {
      "cell_type": "code",
      "execution_count": 2,
      "metadata": {},
      "outputs": [
        {
          "name": "stdout",
          "output_type": "stream",
          "text": [
            "\n",
            "🔧 Training untuk label: anjuran\n",
            "\n",
            "📄 Data Aktual (5 pertama):\n",
            "X (TF-IDF): [[0. 0. 0. ... 0. 0. 0.]\n",
            " [0. 0. 0. ... 0. 0. 0.]\n",
            " [0. 0. 0. ... 0. 0. 0.]\n",
            " [0. 0. 0. ... 0. 0. 0.]\n",
            " [0. 0. 0. ... 0. 0. 0.]]\n",
            "Y (Label): [1, 0, 0, 0, 0]\n",
            "\n",
            "🚀 Memulai Gradient Descent (1000 iterasi)...\n"
          ]
        },
        {
          "name": "stderr",
          "output_type": "stream",
          "text": [
            "Training anjuran:   0%|          | 1/1000 [00:27<7:31:14, 27.10s/it]"
          ]
        },
        {
          "name": "stdout",
          "output_type": "stream",
          "text": [
            "Epoch 0 - Cost: 0.6931\n"
          ]
        },
        {
          "name": "stderr",
          "output_type": "stream",
          "text": [
            "Training anjuran:  10%|█         | 101/1000 [40:17<5:29:07, 21.97s/it]"
          ]
        },
        {
          "name": "stdout",
          "output_type": "stream",
          "text": [
            "Epoch 100 - Cost: 0.4998\n"
          ]
        },
        {
          "name": "stderr",
          "output_type": "stream",
          "text": [
            "Training anjuran:  20%|██        | 201/1000 [1:16:35<4:48:31, 21.67s/it]"
          ]
        },
        {
          "name": "stdout",
          "output_type": "stream",
          "text": [
            "Epoch 200 - Cost: 0.4948\n"
          ]
        },
        {
          "name": "stderr",
          "output_type": "stream",
          "text": [
            "Training anjuran:  30%|███       | 301/1000 [1:52:50<4:15:11, 21.90s/it]"
          ]
        },
        {
          "name": "stdout",
          "output_type": "stream",
          "text": [
            "Epoch 300 - Cost: 0.4928\n"
          ]
        },
        {
          "name": "stderr",
          "output_type": "stream",
          "text": [
            "Training anjuran:  40%|████      | 401/1000 [2:30:38<3:46:05, 22.65s/it]"
          ]
        },
        {
          "name": "stdout",
          "output_type": "stream",
          "text": [
            "Epoch 400 - Cost: 0.4910\n"
          ]
        },
        {
          "name": "stderr",
          "output_type": "stream",
          "text": [
            "Training anjuran:  50%|█████     | 501/1000 [3:10:08<3:21:33, 24.24s/it]"
          ]
        },
        {
          "name": "stdout",
          "output_type": "stream",
          "text": [
            "Epoch 500 - Cost: 0.4892\n"
          ]
        },
        {
          "name": "stderr",
          "output_type": "stream",
          "text": [
            "Training anjuran:  60%|██████    | 601/1000 [3:49:03<2:28:03, 22.26s/it]"
          ]
        },
        {
          "name": "stdout",
          "output_type": "stream",
          "text": [
            "Epoch 600 - Cost: 0.4874\n"
          ]
        },
        {
          "name": "stderr",
          "output_type": "stream",
          "text": [
            "Training anjuran:  70%|███████   | 701/1000 [4:26:01<1:49:43, 22.02s/it]"
          ]
        },
        {
          "name": "stdout",
          "output_type": "stream",
          "text": [
            "Epoch 700 - Cost: 0.4856\n"
          ]
        },
        {
          "name": "stderr",
          "output_type": "stream",
          "text": [
            "Training anjuran:  80%|████████  | 801/1000 [5:02:48<1:13:38, 22.20s/it]"
          ]
        },
        {
          "name": "stdout",
          "output_type": "stream",
          "text": [
            "Epoch 800 - Cost: 0.4839\n"
          ]
        },
        {
          "name": "stderr",
          "output_type": "stream",
          "text": [
            "Training anjuran:  90%|█████████ | 901/1000 [5:39:46<36:17, 22.00s/it]  "
          ]
        },
        {
          "name": "stdout",
          "output_type": "stream",
          "text": [
            "Epoch 900 - Cost: 0.4822\n"
          ]
        },
        {
          "name": "stderr",
          "output_type": "stream",
          "text": [
            "Training anjuran: 100%|██████████| 1000/1000 [6:16:16<00:00, 22.58s/it]\n",
            "C:\\Users\\mynam\\AppData\\Local\\Packages\\PythonSoftwareFoundation.Python.3.10_qbz5n2kfra8p0\\LocalCache\\local-packages\\Python310\\site-packages\\IPython\\core\\pylabtools.py:170: UserWarning: Glyph 128201 (\\N{CHART WITH DOWNWARDS TREND}) missing from current font.\n",
            "  fig.canvas.print_figure(bytes_io, **kw)\n"
          ]
        },
        {
          "data": {
            "image/png": "[encoded data removed]",
            "text/plain": [
              "<Figure size 640x480 with 1 Axes>"
            ]
          },
          "metadata": {},
          "output_type": "display_data"
        },
        {
          "name": "stdout",
          "output_type": "stream",
          "text": [
            "\n",
            "📌 Bobot dan Bias Akhir:\n",
            "W (10 bobot pertama): [-0.001238142695970785, -0.0009670876938719325, -0.0006971040448049448, -0.00013199554003586852, -0.0006012052244346957, -0.004102149554122492, -0.0009893075204496348, 0.0019570423087743485, -0.0009978048330521083, -0.0006577805868944185]\n",
            "b: -1.3612821656426672\n"
          ]
        },
        {
          "name": "stderr",
          "output_type": "stream",
          "text": [
            "C:\\Users\\mynam\\AppData\\Local\\Packages\\PythonSoftwareFoundation.Python.3.10_qbz5n2kfra8p0\\LocalCache\\local-packages\\Python310\\site-packages\\IPython\\core\\pylabtools.py:170: UserWarning: Glyph 128202 (\\N{BAR CHART}) missing from current font.\n",
            "  fig.canvas.print_figure(bytes_io, **kw)\n"
          ]
        },
        {
          "data": {
            "image/png": "[encoded data removed]",
            "text/plain": [
              "<Figure size 1000x200 with 1 Axes>"
            ]
          },
          "metadata": {},
          "output_type": "display_data"
        },
        {
          "name": "stdout",
          "output_type": "stream",
          "text": [
            "\n",
            "🔧 Training untuk label: larangan\n",
            "\n",
            "📄 Data Aktual (5 pertama):\n",
            "X (TF-IDF): [[0. 0. 0. ... 0. 0. 0.]\n",
            " [0. 0. 0. ... 0. 0. 0.]\n",
            " [0. 0. 0. ... 0. 0. 0.]\n",
            " [0. 0. 0. ... 0. 0. 0.]\n",
            " [0. 0. 0. ... 0. 0. 0.]]\n",
            "Y (Label): [1, 0, 1, 0, 0]\n",
            "\n",
            "🚀 Memulai Gradient Descent (1000 iterasi)...\n"
          ]
        },
        {
          "name": "stderr",
          "output_type": "stream",
          "text": [
            "Training larangan:   0%|          | 1/1000 [00:23<6:23:03, 23.01s/it]"
          ]
        },
        {
          "name": "stdout",
          "output_type": "stream",
          "text": [
            "Epoch 0 - Cost: 0.6931\n"
          ]
        },
        {
          "name": "stderr",
          "output_type": "stream",
          "text": [
            "Training larangan:  10%|█         | 101/1000 [37:21<5:32:38, 22.20s/it]"
          ]
        },
        {
          "name": "stdout",
          "output_type": "stream",
          "text": [
            "Epoch 100 - Cost: 0.3724\n"
          ]
        },
        {
          "name": "stderr",
          "output_type": "stream",
          "text": [
            "Training larangan:  20%|██        | 201/1000 [1:14:26<4:54:55, 22.15s/it]"
          ]
        },
        {
          "name": "stdout",
          "output_type": "stream",
          "text": [
            "Epoch 200 - Cost: 0.3606\n"
          ]
        },
        {
          "name": "stderr",
          "output_type": "stream",
          "text": [
            "Training larangan:  30%|███       | 301/1000 [1:51:32<4:18:03, 22.15s/it]"
          ]
        },
        {
          "name": "stdout",
          "output_type": "stream",
          "text": [
            "Epoch 300 - Cost: 0.3580\n"
          ]
        },
        {
          "name": "stderr",
          "output_type": "stream",
          "text": [
            "Training larangan:  40%|████      | 401/1000 [2:28:37<3:42:44, 22.31s/it]"
          ]
        },
        {
          "name": "stdout",
          "output_type": "stream",
          "text": [
            "Epoch 400 - Cost: 0.3561\n"
          ]
        },
        {
          "name": "stderr",
          "output_type": "stream",
          "text": [
            "Training larangan:  50%|█████     | 501/1000 [3:05:50<3:05:30, 22.31s/it]"
          ]
        },
        {
          "name": "stdout",
          "output_type": "stream",
          "text": [
            "Epoch 500 - Cost: 0.3544\n"
          ]
        },
        {
          "name": "stderr",
          "output_type": "stream",
          "text": [
            "Training larangan:  60%|██████    | 601/1000 [3:42:54<2:27:43, 22.21s/it]"
          ]
        },
        {
          "name": "stdout",
          "output_type": "stream",
          "text": [
            "Epoch 600 - Cost: 0.3526\n"
          ]
        },
        {
          "name": "stderr",
          "output_type": "stream",
          "text": [
            "Training larangan:  70%|███████   | 701/1000 [4:19:59<1:50:45, 22.23s/it]"
          ]
        },
        {
          "name": "stdout",
          "output_type": "stream",
          "text": [
            "Epoch 700 - Cost: 0.3509\n"
          ]
        },
        {
          "name": "stderr",
          "output_type": "stream",
          "text": [
            "Training larangan:  80%|████████  | 801/1000 [4:57:21<1:16:02, 22.93s/it]"
          ]
        },
        {
          "name": "stdout",
          "output_type": "stream",
          "text": [
            "Epoch 800 - Cost: 0.3492\n"
          ]
        },
        {
          "name": "stderr",
          "output_type": "stream",
          "text": [
            "Training larangan:  90%|█████████ | 901/1000 [5:34:46<37:13, 22.56s/it]  "
          ]
        },
        {
          "name": "stdout",
          "output_type": "stream",
          "text": [
            "Epoch 900 - Cost: 0.3475\n"
          ]
        },
        {
          "name": "stderr",
          "output_type": "stream",
          "text": [
            "Training larangan: 100%|██████████| 1000/1000 [6:11:45<00:00, 22.31s/it]\n"
          ]
        },
        {
          "data": {
            "image/png": "[encoded data removed]",
            "text/plain": [
              "<Figure size 640x480 with 1 Axes>"
            ]
          },
          "metadata": {},
          "output_type": "display_data"
        },
        {
          "name": "stdout",
          "output_type": "stream",
          "text": [
            "\n",
            "📌 Bobot dan Bias Akhir:\n",
            "W (10 bobot pertama): [-0.000808466743545138, -0.0006355097640362591, -0.00045769737159908084, -8.346635413663498e-05, -0.0003961111430614725, -0.002697751521300788, -0.0018853001137866833, -0.00033391110315183635, -0.0006637504952781303, -0.0004325972967246826]\n",
            "b: -1.9324561779720537\n"
          ]
        },
        {
          "data": {
            "image/png": "[encoded data removed]",
            "text/plain": [
              "<Figure size 1000x200 with 1 Axes>"
            ]
          },
          "metadata": {},
          "output_type": "display_data"
        },
        {
          "name": "stdout",
          "output_type": "stream",
          "text": [
            "\n",
            "🔧 Training untuk label: informasi\n",
            "\n",
            "📄 Data Aktual (5 pertama):\n",
            "X (TF-IDF): [[0. 0. 0. ... 0. 0. 0.]\n",
            " [0. 0. 0. ... 0. 0. 0.]\n",
            " [0. 0. 0. ... 0. 0. 0.]\n",
            " [0. 0. 0. ... 0. 0. 0.]\n",
            " [0. 0. 0. ... 0. 0. 0.]]\n",
            "Y (Label): [1, 1, 1, 1, 1]\n",
            "\n",
            "🚀 Memulai Gradient Descent (1000 iterasi)...\n"
          ]
        },
        {
          "name": "stderr",
          "output_type": "stream",
          "text": [
            "Training informasi:   0%|          | 1/1000 [00:22<6:20:50, 22.87s/it]"
          ]
        },
        {
          "name": "stdout",
          "output_type": "stream",
          "text": [
            "Epoch 0 - Cost: 0.6931\n"
          ]
        },
        {
          "name": "stderr",
          "output_type": "stream",
          "text": [
            "Training informasi:  10%|█         | 101/1000 [39:15<5:36:39, 22.47s/it]"
          ]
        },
        {
          "name": "stdout",
          "output_type": "stream",
          "text": [
            "Epoch 100 - Cost: 0.2092\n"
          ]
        },
        {
          "name": "stderr",
          "output_type": "stream",
          "text": [
            "Training informasi:  20%|██        | 201/1000 [1:16:35<5:00:57, 22.60s/it]"
          ]
        },
        {
          "name": "stdout",
          "output_type": "stream",
          "text": [
            "Epoch 200 - Cost: 0.1794\n"
          ]
        },
        {
          "name": "stderr",
          "output_type": "stream",
          "text": [
            "Training informasi:  30%|███       | 301/1000 [1:53:51<4:19:31, 22.28s/it]"
          ]
        },
        {
          "name": "stdout",
          "output_type": "stream",
          "text": [
            "Epoch 300 - Cost: 0.1726\n"
          ]
        },
        {
          "name": "stderr",
          "output_type": "stream",
          "text": [
            "Training informasi:  40%|████      | 401/1000 [2:32:13<3:48:05, 22.85s/it]"
          ]
        },
        {
          "name": "stdout",
          "output_type": "stream",
          "text": [
            "Epoch 400 - Cost: 0.1703\n"
          ]
        },
        {
          "name": "stderr",
          "output_type": "stream",
          "text": [
            "Training informasi:  50%|█████     | 501/1000 [3:10:29<3:04:27, 22.18s/it]"
          ]
        },
        {
          "name": "stdout",
          "output_type": "stream",
          "text": [
            "Epoch 500 - Cost: 0.1693\n"
          ]
        },
        {
          "name": "stderr",
          "output_type": "stream",
          "text": [
            "Training informasi:  60%|██████    | 601/1000 [3:50:34<2:56:13, 26.50s/it]"
          ]
        },
        {
          "name": "stdout",
          "output_type": "stream",
          "text": [
            "Epoch 600 - Cost: 0.1688\n"
          ]
        },
        {
          "name": "stderr",
          "output_type": "stream",
          "text": [
            "Training informasi:  70%|███████   | 701/1000 [4:27:55<1:50:19, 22.14s/it]"
          ]
        },
        {
          "name": "stdout",
          "output_type": "stream",
          "text": [
            "Epoch 700 - Cost: 0.1684\n"
          ]
        },
        {
          "name": "stderr",
          "output_type": "stream",
          "text": [
            "Training informasi:  80%|████████  | 801/1000 [5:05:56<1:14:18, 22.40s/it]"
          ]
        },
        {
          "name": "stdout",
          "output_type": "stream",
          "text": [
            "Epoch 800 - Cost: 0.1681\n"
          ]
        },
        {
          "name": "stderr",
          "output_type": "stream",
          "text": [
            "Training informasi:  90%|█████████ | 901/1000 [5:48:58<36:13, 21.96s/it]  "
          ]
        },
        {
          "name": "stdout",
          "output_type": "stream",
          "text": [
            "Epoch 900 - Cost: 0.1678\n"
          ]
        },
        {
          "name": "stderr",
          "output_type": "stream",
          "text": [
            "Training informasi: 100%|██████████| 1000/1000 [6:25:23<00:00, 23.12s/it]\n"
          ]
        },
        {
          "data": {
            "image/png": "[encoded data removed]",
            "text/plain": [
              "<Figure size 640x480 with 1 Axes>"
            ]
          },
          "metadata": {},
          "output_type": "display_data"
        },
        {
          "name": "stdout",
          "output_type": "stream",
          "text": [
            "\n",
            "📌 Bobot dan Bias Akhir:\n",
            "W (10 bobot pertama): [0.0004217082359855989, 0.0003297414347359908, 0.00023616461982608973, 4.383386447202547e-05, 0.00020605714205285157, 0.0014148492682986903, 0.000994664969583798, 0.00017542347408032758, 0.00034901381833468887, 0.0002173664469219218]\n",
            "b: 3.022949961001247\n"
          ]
        },
        {
          "data": {
            "image/png": "[encoded data removed]",
            "text/plain": [
              "<Figure size 1000x200 with 1 Axes>"
            ]
          },
          "metadata": {},
          "output_type": "display_data"
        },
        {
          "name": "stdout",
          "output_type": "stream",
          "text": [
            "✅ Model berhasil disimpan ke '../models/LR_manual_jurnal.pkl'\n"
          ]
        }
      ],
      "source": [
        "# === Import library ===\n",
        "import pickle                      # Untuk membaca file .pkl (TF-IDF)\n",
        "import pandas as pd               # Untuk memproses file CSV\n",
        "import math                       # Untuk operasi matematika dasar\n",
        "import matplotlib.pyplot as plt   # Untuk membuat grafik cost dan prediksi\n",
        "from tqdm import tqdm             # Untuk menampilkan progress bar\n",
        "\n",
        "# === Load Fitur TF-IDF ===\n",
        "# Membaca hasil TF-IDF dari file .pkl dan mengubah menjadi array\n",
        "with open(\"../data/tfidf/tfidf_training.pkl\", \"rb\") as f:\n",
        "    X = pickle.load(f).toarray()  # X memiliki ukuran (m x n) -> m dokumen, n fitur TF-IDF\n",
        "\n",
        "# === Load Label ===\n",
        "# Membaca label multi-label dari file CSV hasil preprocessing\n",
        "df_train = pd.read_csv(\"../data/processed/preprocessed_training.csv\", delimiter=\";\")\n",
        "\n",
        "# Mengambil kolom label: anjuran, larangan, informasi\n",
        "Y_all = df_train[['anjuran', 'larangan', 'informasi']].values  # (m x 3)\n",
        "\n",
        "# === Parameter Dasar ===\n",
        "m, n = X.shape     # m = jumlah dokumen, n = jumlah fitur\n",
        "alpha = 0.1        # Learning rate untuk gradient descent\n",
        "iterations = 1000  # Jumlah iterasi training\n",
        "\n",
        "# === Fungsi Sigmoid ===\n",
        "# Fungsi aktivasi sigmoid untuk menghitung probabilitas\n",
        "def sigmoid(x):\n",
        "    return 1 / (1 + math.exp(-x))\n",
        "\n",
        "# === Fungsi Cost (Binary Cross-Entropy Loss) ===\n",
        "def compute_cost(Y, Yp):\n",
        "    sum_cost = 0\n",
        "    for i in range(m):\n",
        "        y_i = Y[i]\n",
        "        # Pencegahan log(0) agar stabil\n",
        "        yp_i = max(min(Yp[i], 1 - 1e-15), 1e-15)\n",
        "        sum_cost += y_i * math.log(yp_i) + (1 - y_i) * math.log(1 - yp_i)\n",
        "    return (-1 / m) * sum_cost\n",
        "\n",
        "# === Fungsi Operasi Vektor ===\n",
        "# Pengurangan dua vektor\n",
        "def subtract(A, B):\n",
        "    return [a - b for a, b in zip(A, B)]\n",
        "\n",
        "# Perkalian dot product dua vektor\n",
        "def dot(A, B):\n",
        "    return sum(a * b for a, b in zip(A, B))\n",
        "\n",
        "# Transposisi matriks (diperlukan untuk menghitung gradien)\n",
        "def transpose(matrix):\n",
        "    return list(map(list, zip(*matrix)))\n",
        "\n",
        "# === Hitung Gradien dW dan db ===\n",
        "# Gradien terhadap bobot\n",
        "def compute_dW(X, Y, Yp):\n",
        "    Xt = transpose(X)            # Transposisi matriks X\n",
        "    delta = subtract(Y, Yp)      # Selisih antara aktual dan prediksi\n",
        "    dW = []\n",
        "    for i in range(n):\n",
        "        dW.append((-1 / m) * dot(Xt[i], delta))  # Rumus turunan cost\n",
        "    return dW\n",
        "\n",
        "# Gradien terhadap bias\n",
        "def compute_db(Y, Yp):\n",
        "    delta = subtract(Y, Yp)\n",
        "    return (-1 / m) * sum(delta)\n",
        "\n",
        "# === Training untuk Setiap Label ===\n",
        "models = {}  # Untuk menyimpan model tiap label: {'anjuran': (W, b), ...}\n",
        "\n",
        "# Loop untuk tiap label (multi-label)\n",
        "for label_index, label_name in enumerate(['anjuran', 'larangan', 'informasi']):\n",
        "    print(f\"\\n🔧 Training untuk label: {label_name}\")\n",
        "\n",
        "    # Ambil kolom label tertentu (hanya satu label)\n",
        "    Y = [int(val[0]) for val in Y_all[:, label_index:label_index+1]]\n",
        "\n",
        "    # Tampilkan 5 data awal untuk TF-IDF dan label\n",
        "    print(\"\\n📄 Data Aktual (5 pertama):\")\n",
        "    print(\"X (TF-IDF):\", X[:5])\n",
        "    print(\"Y (Label):\", Y[:5])\n",
        "\n",
        "    # Inisialisasi bobot dan bias dengan nol\n",
        "    W = [0.0] * n\n",
        "    b = 0.0\n",
        "\n",
        "    print(f\"\\n🚀 Memulai Gradient Descent ({iterations} iterasi)...\")\n",
        "\n",
        "    # Simpan nilai cost untuk setiap iterasi (untuk plotting)\n",
        "    costs = []\n",
        "\n",
        "    # Training menggunakan Gradient Descent\n",
        "    for epoch in tqdm(range(iterations), desc=f\"Training {label_name}\"):\n",
        "        Yp = []  # Menyimpan prediksi probabilitas sigmoid\n",
        "\n",
        "        # Hitung prediksi Yp (sigmoid dari z)\n",
        "        for i in range(m):\n",
        "            z = dot(X[i], W) + b\n",
        "            Yp.append(sigmoid(z))\n",
        "\n",
        "        # Hitung nilai cost\n",
        "        cost = compute_cost(Y, Yp)\n",
        "        costs.append(cost)\n",
        "\n",
        "        # Hitung gradien\n",
        "        dW = compute_dW(X, Y, Yp)\n",
        "        db = compute_db(Y, Yp)\n",
        "\n",
        "        # Update bobot dan bias menggunakan gradien\n",
        "        W = subtract(W, [alpha * dw for dw in dW])\n",
        "        b = b - alpha * db\n",
        "\n",
        "        # Cetak cost setiap 100 epoch\n",
        "        if epoch % 100 == 0:\n",
        "            print(f\"Epoch {epoch} - Cost: {cost:.4f}\")\n",
        "\n",
        "    # Simpan model akhir untuk label ini\n",
        "    models[label_name] = (W, b)\n",
        "\n",
        "    # === Visualisasi Cost ===\n",
        "    plt.figure()\n",
        "    plt.plot(range(iterations), costs)\n",
        "    plt.xlabel(\"Iterations\")\n",
        "    plt.ylabel(\"Cost\")\n",
        "    plt.title(f\"📉 Grafik Cost - {label_name}\")\n",
        "    plt.grid(True)\n",
        "    plt.show()\n",
        "\n",
        "    # === Tampilkan Bobot Akhir ===\n",
        "    print(\"\\n📌 Bobot dan Bias Akhir:\")\n",
        "    print(\"W (10 bobot pertama):\", W[:10])\n",
        "    print(\"b:\", b)\n",
        "\n",
        "    # === Prediksi Akhir (0 atau 1) ===\n",
        "    Yp_final = []\n",
        "    for i in range(m):\n",
        "        z = dot(X[i], W) + b\n",
        "        prob = sigmoid(z)\n",
        "        Yp_final.append(1 if prob > 0.5 else 0)  # Threshold = 0.5\n",
        "\n",
        "    # === Visualisasi Hasil Prediksi ===\n",
        "    plt.figure(figsize=(10, 2))\n",
        "    plt.plot(Yp_final[:100], marker='o', linestyle='None')\n",
        "    plt.title(f\"📊 Hasil Prediksi Akhir - {label_name}\")\n",
        "    plt.xlabel(\"Index\")\n",
        "    plt.ylabel(\"Prediction\")\n",
        "    plt.ylim(-0.5, 1.5)\n",
        "    plt.grid(True)\n",
        "    plt.show()\n",
        "\n",
        "with open(\"../models/LR_manual_jurnal.pkl\", \"wb\") as f:\n",
        "    pickle.dump(models, f)\n",
        "\n",
        "print(\"✅ Model berhasil disimpan ke '../models/LR_manual_jurnal.pkl'\")\n"
      ]
    },
    {
      "cell_type": "code",
      "execution_count": 4,
      "metadata": {},
      "outputs": [
        {
          "name": "stdout",
          "output_type": "stream",
          "text": [
            "\n",
            "🔧 Training untuk label: anjuran\n",
            "\n",
            "🚀 Memulai Gradient Descent (1000 iterasi)...\n"
          ]
        },
        {
          "name": "stderr",
          "output_type": "stream",
          "text": [
            "Training anjuran:   0%|          | 1/1000 [00:00<01:58,  8.40it/s]"
          ]
        },
        {
          "name": "stdout",
          "output_type": "stream",
          "text": [
            "Epoch 0 - Cost: 0.6931\n"
          ]
        },
        {
          "name": "stderr",
          "output_type": "stream",
          "text": [
            "Training anjuran:  10%|█         | 105/1000 [00:05<00:46, 19.08it/s]"
          ]
        },
        {
          "name": "stdout",
          "output_type": "stream",
          "text": [
            "Epoch 100 - Cost: 0.8161\n"
          ]
        },
        {
          "name": "stderr",
          "output_type": "stream",
          "text": [
            "Training anjuran:  20%|██        | 203/1000 [00:11<00:41, 19.35it/s]"
          ]
        },
        {
          "name": "stdout",
          "output_type": "stream",
          "text": [
            "Epoch 200 - Cost: 1.0177\n"
          ]
        },
        {
          "name": "stderr",
          "output_type": "stream",
          "text": [
            "Training anjuran:  30%|███       | 303/1000 [00:16<00:37, 18.37it/s]"
          ]
        },
        {
          "name": "stdout",
          "output_type": "stream",
          "text": [
            "Epoch 300 - Cost: 1.3286\n"
          ]
        },
        {
          "name": "stderr",
          "output_type": "stream",
          "text": [
            "Training anjuran:  40%|████      | 403/1000 [00:22<00:32, 18.48it/s]"
          ]
        },
        {
          "name": "stdout",
          "output_type": "stream",
          "text": [
            "Epoch 400 - Cost: 1.7603\n"
          ]
        },
        {
          "name": "stderr",
          "output_type": "stream",
          "text": [
            "Training anjuran:  50%|█████     | 503/1000 [00:27<00:27, 17.81it/s]"
          ]
        },
        {
          "name": "stdout",
          "output_type": "stream",
          "text": [
            "Epoch 500 - Cost: 2.2931\n"
          ]
        },
        {
          "name": "stderr",
          "output_type": "stream",
          "text": [
            "Training anjuran:  60%|██████    | 603/1000 [00:33<00:22, 17.91it/s]"
          ]
        },
        {
          "name": "stdout",
          "output_type": "stream",
          "text": [
            "Epoch 600 - Cost: 2.8914\n"
          ]
        },
        {
          "name": "stderr",
          "output_type": "stream",
          "text": [
            "Training anjuran:  70%|███████   | 705/1000 [00:38<00:16, 18.18it/s]"
          ]
        },
        {
          "name": "stdout",
          "output_type": "stream",
          "text": [
            "Epoch 700 - Cost: 3.5249\n"
          ]
        },
        {
          "name": "stderr",
          "output_type": "stream",
          "text": [
            "Training anjuran:  80%|████████  | 803/1000 [00:44<00:11, 17.60it/s]"
          ]
        },
        {
          "name": "stdout",
          "output_type": "stream",
          "text": [
            "Epoch 800 - Cost: 4.1755\n"
          ]
        },
        {
          "name": "stderr",
          "output_type": "stream",
          "text": [
            "Training anjuran:  90%|█████████ | 903/1000 [00:50<00:04, 19.54it/s]"
          ]
        },
        {
          "name": "stdout",
          "output_type": "stream",
          "text": [
            "Epoch 900 - Cost: 4.8339\n"
          ]
        },
        {
          "name": "stderr",
          "output_type": "stream",
          "text": [
            "Training anjuran: 100%|██████████| 1000/1000 [00:55<00:00, 18.14it/s]\n",
            "C:\\Users\\mynam\\AppData\\Local\\Packages\\PythonSoftwareFoundation.Python.3.10_qbz5n2kfra8p0\\LocalCache\\local-packages\\Python310\\site-packages\\IPython\\core\\pylabtools.py:170: UserWarning: Glyph 128201 (\\N{CHART WITH DOWNWARDS TREND}) missing from current font.\n",
            "  fig.canvas.print_figure(bytes_io, **kw)\n"
          ]
        },
        {
          "data": {
            "image/png": "[encoded data removed]",
            "text/plain": [
              "<Figure size 640x480 with 1 Axes>"
            ]
          },
          "metadata": {},
          "output_type": "display_data"
        },
        {
          "name": "stderr",
          "output_type": "stream",
          "text": [
            "C:\\Users\\mynam\\AppData\\Local\\Packages\\PythonSoftwareFoundation.Python.3.10_qbz5n2kfra8p0\\LocalCache\\local-packages\\Python310\\site-packages\\IPython\\core\\pylabtools.py:170: UserWarning: Glyph 128202 (\\N{BAR CHART}) missing from current font.\n",
            "  fig.canvas.print_figure(bytes_io, **kw)\n"
          ]
        },
        {
          "data": {
            "image/png": "[encoded data removed]",
            "text/plain": [
              "<Figure size 1000x200 with 1 Axes>"
            ]
          },
          "metadata": {},
          "output_type": "display_data"
        },
        {
          "name": "stdout",
          "output_type": "stream",
          "text": [
            "\n",
            "📊 Evaluasi - Label: anjuran\n",
            "  TP: 1112, TN: 0, FP: 4489, FN: 0\n",
            "  Accuracy : 0.1985\n",
            "  Precision: 0.1985\n",
            "  Recall   : 1.0000\n",
            "  F1-Score : 0.3313\n",
            "\n",
            "🔧 Training untuk label: larangan\n",
            "\n",
            "🚀 Memulai Gradient Descent (1000 iterasi)...\n"
          ]
        },
        {
          "name": "stderr",
          "output_type": "stream",
          "text": [
            "Training larangan:   0%|          | 2/1000 [00:00<00:52, 18.93it/s]"
          ]
        },
        {
          "name": "stdout",
          "output_type": "stream",
          "text": [
            "Epoch 0 - Cost: 0.6931\n"
          ]
        },
        {
          "name": "stderr",
          "output_type": "stream",
          "text": [
            "Training larangan:  10%|█         | 104/1000 [00:05<00:46, 19.41it/s]"
          ]
        },
        {
          "name": "stdout",
          "output_type": "stream",
          "text": [
            "Epoch 100 - Cost: 0.8901\n"
          ]
        },
        {
          "name": "stderr",
          "output_type": "stream",
          "text": [
            "Training larangan:  20%|██        | 204/1000 [00:10<00:44, 17.90it/s]"
          ]
        },
        {
          "name": "stdout",
          "output_type": "stream",
          "text": [
            "Epoch 200 - Cost: 1.2095\n"
          ]
        },
        {
          "name": "stderr",
          "output_type": "stream",
          "text": [
            "Training larangan:  30%|███       | 304/1000 [00:16<00:38, 18.30it/s]"
          ]
        },
        {
          "name": "stdout",
          "output_type": "stream",
          "text": [
            "Epoch 300 - Cost: 1.6832\n"
          ]
        },
        {
          "name": "stderr",
          "output_type": "stream",
          "text": [
            "Training larangan:  40%|████      | 404/1000 [00:21<00:31, 19.15it/s]"
          ]
        },
        {
          "name": "stdout",
          "output_type": "stream",
          "text": [
            "Epoch 400 - Cost: 2.3002\n"
          ]
        },
        {
          "name": "stderr",
          "output_type": "stream",
          "text": [
            "Training larangan:  50%|█████     | 504/1000 [00:26<00:25, 19.38it/s]"
          ]
        },
        {
          "name": "stdout",
          "output_type": "stream",
          "text": [
            "Epoch 500 - Cost: 3.0140\n"
          ]
        },
        {
          "name": "stderr",
          "output_type": "stream",
          "text": [
            "Training larangan:  60%|██████    | 604/1000 [00:32<00:21, 18.78it/s]"
          ]
        },
        {
          "name": "stdout",
          "output_type": "stream",
          "text": [
            "Epoch 600 - Cost: 3.7787\n"
          ]
        },
        {
          "name": "stderr",
          "output_type": "stream",
          "text": [
            "Training larangan:  70%|███████   | 704/1000 [00:37<00:17, 16.82it/s]"
          ]
        },
        {
          "name": "stdout",
          "output_type": "stream",
          "text": [
            "Epoch 700 - Cost: 4.5667\n"
          ]
        },
        {
          "name": "stderr",
          "output_type": "stream",
          "text": [
            "Training larangan:  80%|████████  | 804/1000 [00:43<00:11, 17.11it/s]"
          ]
        },
        {
          "name": "stdout",
          "output_type": "stream",
          "text": [
            "Epoch 800 - Cost: 5.3645\n"
          ]
        },
        {
          "name": "stderr",
          "output_type": "stream",
          "text": [
            "Training larangan:  90%|█████████ | 904/1000 [00:49<00:05, 17.45it/s]"
          ]
        },
        {
          "name": "stdout",
          "output_type": "stream",
          "text": [
            "Epoch 900 - Cost: 6.1664\n"
          ]
        },
        {
          "name": "stderr",
          "output_type": "stream",
          "text": [
            "Training larangan: 100%|██████████| 1000/1000 [00:54<00:00, 18.21it/s]\n"
          ]
        },
        {
          "data": {
            "image/png": "[encoded data removed]",
            "text/plain": [
              "<Figure size 640x480 with 1 Axes>"
            ]
          },
          "metadata": {},
          "output_type": "display_data"
        },
        {
          "data": {
            "image/png": "[encoded data removed]",
            "text/plain": [
              "<Figure size 1000x200 with 1 Axes>"
            ]
          },
          "metadata": {},
          "output_type": "display_data"
        },
        {
          "name": "stdout",
          "output_type": "stream",
          "text": [
            "\n",
            "📊 Evaluasi - Label: larangan\n",
            "  TP: 663, TN: 0, FP: 4938, FN: 0\n",
            "  Accuracy : 0.1184\n",
            "  Precision: 0.1184\n",
            "  Recall   : 1.0000\n",
            "  F1-Score : 0.2117\n",
            "\n",
            "🔧 Training untuk label: informasi\n",
            "\n",
            "🚀 Memulai Gradient Descent (1000 iterasi)...\n"
          ]
        },
        {
          "name": "stderr",
          "output_type": "stream",
          "text": [
            "Training informasi:   0%|          | 2/1000 [00:00<00:54, 18.35it/s]"
          ]
        },
        {
          "name": "stdout",
          "output_type": "stream",
          "text": [
            "Epoch 0 - Cost: 0.6931\n"
          ]
        },
        {
          "name": "stderr",
          "output_type": "stream",
          "text": [
            "Training informasi:  10%|█         | 104/1000 [00:05<00:48, 18.52it/s]"
          ]
        },
        {
          "name": "stdout",
          "output_type": "stream",
          "text": [
            "Epoch 100 - Cost: 0.9776\n"
          ]
        },
        {
          "name": "stderr",
          "output_type": "stream",
          "text": [
            "Training informasi:  20%|██        | 204/1000 [00:11<00:51, 15.59it/s]"
          ]
        },
        {
          "name": "stdout",
          "output_type": "stream",
          "text": [
            "Epoch 200 - Cost: 1.4330\n"
          ]
        },
        {
          "name": "stderr",
          "output_type": "stream",
          "text": [
            "Training informasi:  30%|███       | 304/1000 [00:16<00:36, 18.95it/s]"
          ]
        },
        {
          "name": "stdout",
          "output_type": "stream",
          "text": [
            "Epoch 300 - Cost: 2.0829\n"
          ]
        },
        {
          "name": "stderr",
          "output_type": "stream",
          "text": [
            "Training informasi:  40%|████      | 404/1000 [00:22<00:30, 19.59it/s]"
          ]
        },
        {
          "name": "stdout",
          "output_type": "stream",
          "text": [
            "Epoch 400 - Cost: 2.8859\n"
          ]
        },
        {
          "name": "stderr",
          "output_type": "stream",
          "text": [
            "Training informasi:  50%|█████     | 504/1000 [00:27<00:28, 17.40it/s]"
          ]
        },
        {
          "name": "stdout",
          "output_type": "stream",
          "text": [
            "Epoch 500 - Cost: 3.7745\n"
          ]
        },
        {
          "name": "stderr",
          "output_type": "stream",
          "text": [
            "Training informasi:  60%|██████    | 604/1000 [00:32<00:20, 19.34it/s]"
          ]
        },
        {
          "name": "stdout",
          "output_type": "stream",
          "text": [
            "Epoch 600 - Cost: 4.7017\n"
          ]
        },
        {
          "name": "stderr",
          "output_type": "stream",
          "text": [
            "Training informasi:  70%|███████   | 704/1000 [00:37<00:15, 19.47it/s]"
          ]
        },
        {
          "name": "stdout",
          "output_type": "stream",
          "text": [
            "Epoch 700 - Cost: 5.6442\n"
          ]
        },
        {
          "name": "stderr",
          "output_type": "stream",
          "text": [
            "Training informasi:  80%|████████  | 804/1000 [00:42<00:10, 19.49it/s]"
          ]
        },
        {
          "name": "stdout",
          "output_type": "stream",
          "text": [
            "Epoch 800 - Cost: 6.5927\n"
          ]
        },
        {
          "name": "stderr",
          "output_type": "stream",
          "text": [
            "Training informasi:  90%|█████████ | 904/1000 [00:48<00:04, 19.31it/s]"
          ]
        },
        {
          "name": "stdout",
          "output_type": "stream",
          "text": [
            "Epoch 900 - Cost: 7.5434\n"
          ]
        },
        {
          "name": "stderr",
          "output_type": "stream",
          "text": [
            "Training informasi: 100%|██████████| 1000/1000 [00:53<00:00, 18.81it/s]\n"
          ]
        },
        {
          "data": {
            "image/png": "[encoded data removed]",
            "text/plain": [
              "<Figure size 640x480 with 1 Axes>"
            ]
          },
          "metadata": {},
          "output_type": "display_data"
        },
        {
          "data": {
            "image/png": "[encoded data removed]",
            "text/plain": [
              "<Figure size 1000x200 with 1 Axes>"
            ]
          },
          "metadata": {},
          "output_type": "display_data"
        },
        {
          "name": "stdout",
          "output_type": "stream",
          "text": [
            "\n",
            "📊 Evaluasi - Label: informasi\n",
            "  TP: 0, TN: 229, FP: 0, FN: 5372\n",
            "  Accuracy : 0.0409\n",
            "  Precision: 0.0000\n",
            "  Recall   : 0.0000\n",
            "  F1-Score : 0.0000\n",
            "\n",
            "✅ Model berhasil disimpan ke '../models/LR_manual_jurnal_np.pkl'\n"
          ]
        }
      ],
      "source": [
        "# === Import library ===\n",
        "import pickle\n",
        "import pandas as pd\n",
        "import numpy as np\n",
        "import math\n",
        "import matplotlib.pyplot as plt\n",
        "from tqdm import tqdm\n",
        "\n",
        "# === Load Fitur TF-IDF dan Normalisasi ===\n",
        "with open(\"../data/tfidf/tfidf_training.pkl\", \"rb\") as f:\n",
        "    X = pickle.load(f).toarray()\n",
        "\n",
        "X = np.array(X)\n",
        "X = X / np.linalg.norm(X, axis=1, keepdims=True)  # ✅ Normalisasi L2 per dokumen\n",
        "\n",
        "# === Load Label ===\n",
        "df_train = pd.read_csv(\"../data/processed/preprocessed_training.csv\", delimiter=\";\")\n",
        "Y_all = df_train[['anjuran', 'larangan', 'informasi']].values\n",
        "Y_all = np.array(Y_all)\n",
        "\n",
        "# === Parameter Dasar ===\n",
        "m, n = X.shape\n",
        "alpha = 0.01   # ✅ Learning rate lebih kecil\n",
        "iterations = 1000\n",
        "threshold = 0.5\n",
        "\n",
        "# === Fungsi Sigmoid ===\n",
        "def sigmoid(z):\n",
        "    z = np.clip(z, -500, 500)  # ✅ Hindari overflow\n",
        "    return 1 / (1 + np.exp(-z))\n",
        "\n",
        "# === Fungsi Cost ===\n",
        "def compute_cost(Y, Yp):\n",
        "    Yp = np.clip(Yp, 1e-15, 1 - 1e-15)  # ✅ Cegah log(0)\n",
        "    return (-1 / m) * np.sum(Y * np.log(Yp) + (1 - Y) * np.log(1 - Yp))\n",
        "\n",
        "# === Fungsi Gradien ===\n",
        "def compute_dW(X, Y, Yp):\n",
        "    return (-1 / m) * np.dot(X.T, (Yp - Y))\n",
        "\n",
        "def compute_db(Y, Yp):\n",
        "    return (-1 / m) * np.sum(Yp - Y)\n",
        "\n",
        "# === Evaluasi Manual ===\n",
        "def evaluate(Y_true, Y_pred, label_name):\n",
        "    TP = np.sum((Y_true == 1) & (Y_pred == 1))\n",
        "    TN = np.sum((Y_true == 0) & (Y_pred == 0))\n",
        "    FP = np.sum((Y_true == 0) & (Y_pred == 1))\n",
        "    FN = np.sum((Y_true == 1) & (Y_pred == 0))\n",
        "\n",
        "    accuracy = (TP + TN) / (TP + TN + FP + FN)\n",
        "    precision = TP / (TP + FP) if (TP + FP) != 0 else 0\n",
        "    recall = TP / (TP + FN) if (TP + FN) != 0 else 0\n",
        "    f1 = 2 * precision * recall / (precision + recall) if (precision + recall) != 0 else 0\n",
        "\n",
        "    print(f\"\\n📊 Evaluasi - Label: {label_name}\")\n",
        "    print(f\"  TP: {TP}, TN: {TN}, FP: {FP}, FN: {FN}\")\n",
        "    print(f\"  Accuracy : {accuracy:.4f}\")\n",
        "    print(f\"  Precision: {precision:.4f}\")\n",
        "    print(f\"  Recall   : {recall:.4f}\")\n",
        "    print(f\"  F1-Score : {f1:.4f}\")\n",
        "\n",
        "# === Training Manual Multi-Label ===\n",
        "models = {}\n",
        "\n",
        "for label_index, label_name in enumerate(['anjuran', 'larangan', 'informasi']):\n",
        "    print(f\"\\n🔧 Training untuk label: {label_name}\")\n",
        "\n",
        "    Y = Y_all[:, label_index].astype(int)\n",
        "\n",
        "    # Inisialisasi bobot dan bias\n",
        "    W = np.zeros(n)\n",
        "    b = 0.0\n",
        "    costs = []\n",
        "\n",
        "    print(f\"\\n🚀 Memulai Gradient Descent ({iterations} iterasi)...\")\n",
        "\n",
        "    for epoch in tqdm(range(iterations), desc=f\"Training {label_name}\"):\n",
        "        Z = np.dot(X, W) + b\n",
        "        Yp = sigmoid(Z)\n",
        "\n",
        "        cost = compute_cost(Y, Yp)\n",
        "        costs.append(cost)\n",
        "\n",
        "        dW = compute_dW(X, Y, Yp)\n",
        "        db = compute_db(Y, Yp)\n",
        "\n",
        "        W -= alpha * dW\n",
        "        b -= alpha * db\n",
        "\n",
        "        if epoch % 100 == 0:\n",
        "            print(f\"Epoch {epoch} - Cost: {cost:.4f}\")\n",
        "\n",
        "    # Simpan model\n",
        "    models[label_name] = (W, b)\n",
        "\n",
        "    # Visualisasi Cost\n",
        "    plt.figure()\n",
        "    plt.plot(range(iterations), costs)\n",
        "    plt.xlabel(\"Iterations\")\n",
        "    plt.ylabel(\"Cost\")\n",
        "    plt.title(f\"📉 Grafik Cost - {label_name}\")\n",
        "    plt.grid(True)\n",
        "    plt.show()\n",
        "\n",
        "    # Prediksi akhir (0 atau 1)\n",
        "    Yp_final = sigmoid(np.dot(X, W) + b)\n",
        "    Y_pred = (Yp_final > threshold).astype(int)\n",
        "\n",
        "    # Visualisasi hasil prediksi\n",
        "    plt.figure(figsize=(10, 2))\n",
        "    plt.plot(Y_pred[:100], marker='o', linestyle='None')\n",
        "    plt.title(f\"📊 Hasil Prediksi Akhir - {label_name}\")\n",
        "    plt.xlabel(\"Index\")\n",
        "    plt.ylabel(\"Prediction\")\n",
        "    plt.ylim(-0.5, 1.5)\n",
        "    plt.grid(True)\n",
        "    plt.show()\n",
        "\n",
        "    # Evaluasi\n",
        "    evaluate(Y, Y_pred, label_name)\n",
        "\n",
        "# === Simpan Model ===\n",
        "with open(\"../models/LR_manual_jurnal_np.pkl\", \"wb\") as f:\n",
        "    pickle.dump(models, f)\n",
        "\n",
        "print(\"\\n✅ Model berhasil disimpan ke '../models/LR_manual_jurnal_np.pkl'\")\n"
      ]
    }
  ],
  "metadata": {
    "kernelspec": {
      "display_name": "Python 3",
      "language": "python",
      "name": "python3"
    },
    "language_info": {
      "codemirror_mode": {
        "name": "ipython",
        "version": 3
      },
      "file_extension": ".py",
      "mimetype": "text/x-python",
      "name": "python",
      "nbconvert_exporter": "python",
      "pygments_lexer": "ipython3",
      "version": "3.10.11"
    }
  },
  "nbformat": 4,
  "nbformat_minor": 2
}
